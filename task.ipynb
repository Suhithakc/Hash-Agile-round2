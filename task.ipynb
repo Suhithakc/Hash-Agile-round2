{
 "cells": [
  {
   "cell_type": "code",
   "execution_count": 5,
   "metadata": {},
   "outputs": [],
   "source": [
    "from elasticsearch import Elasticsearch\n",
    "import pandas as pd\n",
    "\n",
    "es = Elasticsearch([\"http://localhost:9200\"])"
   ]
  },
  {
   "cell_type": "code",
   "execution_count": 6,
   "metadata": {},
   "outputs": [],
   "source": [
    "def create_collection(collection_name):\n",
    "    es.indices.create(index=collection_name, ignore=400)\n"
   ]
  },
  {
   "cell_type": "code",
   "execution_count": 7,
   "metadata": {},
   "outputs": [],
   "source": [
    "def index_data(collection_name, exclude_column):\n",
    "    df = pd.read_csv('C:/Users/krish/OneDrive/Desktop/Hash Agile Task/Employee Sample Data 1.csv', encoding='ISO-8859-1')\n",
    "    \n",
    "    df = df.drop(columns=[exclude_column], errors='ignore') \n",
    "\n",
    "    \n",
    "    df = df.dropna()  \n",
    "\n",
    "    for _, row in df.iterrows():\n",
    "        es.index(index=collection_name, document=row.to_dict())"
   ]
  },
  {
   "cell_type": "code",
   "execution_count": 8,
   "metadata": {},
   "outputs": [],
   "source": [
    "def search_by_column(collection_name, column_name, column_value):\n",
    "    query = {\n",
    "        \"query\": {\n",
    "            \"match\": {\n",
    "                column_name: column_value\n",
    "            }\n",
    "        }\n",
    "    }\n",
    "    return es.search(index=collection_name, body=query)"
   ]
  },
  {
   "cell_type": "code",
   "execution_count": 9,
   "metadata": {},
   "outputs": [],
   "source": [
    "def get_emp_count(collection_name):\n",
    "    return es.count(index=collection_name)['count']"
   ]
  },
  {
   "cell_type": "code",
   "execution_count": 11,
   "metadata": {},
   "outputs": [],
   "source": [
    "def del_emp_by_id(collection_name, employee_id):\n",
    "    es.delete(index=collection_name, id=employee_id)\n",
    "\n",
    "# 6. Get department facets\n",
    "def get_dep_facet(collection_name):\n",
    "    query = {\n",
    "        \"size\": 0,\n",
    "        \"aggs\": {\n",
    "            \"departments\": {\n",
    "                \"terms\": {\n",
    "                    \"field\": \"Department.keyword\" \n",
    "                }\n",
    "            }\n",
    "        }\n",
    "    }\n",
    "    return es.search(index=collection_name, body=query)"
   ]
  },
  {
   "cell_type": "code",
   "execution_count": 24,
   "metadata": {},
   "outputs": [],
   "source": [
    "def execute_tasks():\n",
    "    v_nameCollection = 'hash_suhitha' \n",
    "    v_phoneCollection = '7506'  \n",
    "\n",
    "    print(\"Creating Collections...\")\n",
    "    create_collection(v_nameCollection)\n",
    "    create_collection(v_phoneCollection)\n",
    "\n",
    "    print(\"Getting Employee Count...\")\n",
    "    emp_count = get_emp_count(v_nameCollection)\n",
    "    print(f\"Employee Count in {v_nameCollection}: {emp_count}\")\n",
    "\n",
    "    print(\"Indexing Data...\")\n",
    "    index_data(v_nameCollection, 'Department')\n",
    "    index_data(v_phoneCollection, 'Gender')\n",
    "\n",
    "\n",
    "    print(\"Getting Updated Employee Count...\")\n",
    "    updated_emp_count = get_emp_count(v_nameCollection)\n",
    "    print(f\"Updated Employee Count in {v_nameCollection}: {updated_emp_count}\")\n",
    "\n",
    "    print(\"Searching by Department 'IT'...\")\n",
    "    search_dept_it = search_by_column(v_nameCollection, 'Department', 'IT')\n",
    "    print(\"Search Results for Department 'IT':\")\n",
    "    print(search_dept_it)\n",
    "\n",
    "    print(\"Searching by Gender 'Male'...\")\n",
    "    search_gender_male = search_by_column(v_nameCollection, 'Gender', 'Male')\n",
    "    print(\"Search Results for Gender 'Male':\")\n",
    "    print(search_gender_male)\n",
    "\n",
    "    print(\"Searching Phone Collection by Department 'IT'...\")\n",
    "    search_dept_it_phone = search_by_column(v_phoneCollection, 'Department', 'IT')\n",
    "    print(\"Search Results in Phone Collection for Department 'IT':\")\n",
    "    print(search_dept_it_phone)\n",
    "\n",
    "    print(\"Getting Department Facets for Name Collection...\")\n",
    "    dep_facet_name = get_dep_facet(v_nameCollection)\n",
    "    print(\"Department Facets for Name Collection:\")\n",
    "    print(dep_facet_name)\n",
    "\n",
    "    print(\"Getting Department Facets for Phone Collection...\")\n",
    "    dep_facet_phone = get_dep_facet(v_phoneCollection)\n",
    "    print(\"Department Facets for Phone Collection:\")\n",
    "    print(dep_facet_phone)"
   ]
  },
  {
   "cell_type": "code",
   "execution_count": 25,
   "metadata": {},
   "outputs": [
    {
     "name": "stdout",
     "output_type": "stream",
     "text": [
      "Creating Collections...\n",
      "Getting Employee Count...\n",
      "Employee Count in hash_yourname: 1101\n",
      "Indexing Data...\n"
     ]
    },
    {
     "name": "stderr",
     "output_type": "stream",
     "text": [
      "C:\\Users\\krish\\AppData\\Local\\Temp\\ipykernel_4140\\1341851630.py:2: DeprecationWarning: Passing transport options in the API method is deprecated. Use 'Elasticsearch.options()' instead.\n",
      "  es.indices.create(index=collection_name, ignore=400)\n"
     ]
    },
    {
     "name": "stdout",
     "output_type": "stream",
     "text": [
      "Getting Updated Employee Count...\n",
      "Updated Employee Count in hash_yourname: 1201\n",
      "Searching by Department 'IT'...\n",
      "Search Results for Department 'IT':\n",
      "{'took': 5, 'timed_out': False, '_shards': {'total': 1, 'successful': 1, 'skipped': 0, 'failed': 0}, 'hits': {'total': {'value': 0, 'relation': 'eq'}, 'max_score': None, 'hits': []}}\n",
      "Searching by Gender 'Male'...\n",
      "Search Results for Gender 'Male':\n",
      "{'took': 6, 'timed_out': False, '_shards': {'total': 1, 'successful': 1, 'skipped': 0, 'failed': 0}, 'hits': {'total': {'value': 603, 'relation': 'eq'}, 'max_score': 0.68649703, 'hits': [{'_index': 'hash_yourname', '_id': 'sNJprJIBJahXiCRmpuT0', '_score': 0.68649703, '_source': {'Employee ID': 'E02002', 'Full Name': 'Kai Le', 'Job Title': 'Controls Engineer', 'Business Unit': 'Manufacturing', 'Gender': 'Male', 'Ethnicity': 'Asian', 'Age': 47.0, 'Hire Date': '2/5/2022', 'Annual Salary': '$92,368 ', 'Bonus %': '0%', 'Country': 'United States', 'City': 'Columbus', 'Exit Date': None}}, {'_index': 'hash_yourname', '_id': 'sdJprJIBJahXiCRmp-Tx', '_score': 0.68649703, '_source': {'Employee ID': 'E02003', 'Full Name': 'Robert Patel', 'Job Title': 'Analyst', 'Business Unit': 'Corporate', 'Gender': 'Male', 'Ethnicity': 'Asian', 'Age': 58.0, 'Hire Date': '10/23/2013', 'Annual Salary': '$45,703 ', 'Bonus %': '0%', 'Country': 'United States', 'City': 'Chicago', 'Exit Date': None}}, {'_index': 'hash_yourname', '_id': 'stJprJIBJahXiCRmqOQC', '_score': 0.68649703, '_source': {'Employee ID': 'E02004', 'Full Name': 'Cameron Lo', 'Job Title': 'Network Administrator', 'Business Unit': 'Research & Development', 'Gender': 'Male', 'Ethnicity': 'Asian', 'Age': 34.0, 'Hire Date': '3/24/2019', 'Annual Salary': '$83,576 ', 'Bonus %': '0%', 'Country': 'China', 'City': 'Shanghai', 'Exit Date': None}}, {'_index': 'hash_yourname', '_id': 'tdJprJIBJahXiCRmqOQu', '_score': 0.68649703, '_source': {'Employee ID': 'E02007', 'Full Name': 'Ezra Vu', 'Job Title': 'Network Administrator', 'Business Unit': 'Manufacturing', 'Gender': 'Male', 'Ethnicity': 'Asian', 'Age': 62.0, 'Hire Date': '4/22/2004', 'Annual Salary': '$66,227 ', 'Bonus %': '0%', 'Country': 'United States', 'City': 'Phoenix', 'Exit Date': '2/14/2014'}}, {'_index': 'hash_yourname', '_id': 't9JprJIBJahXiCRmqOT7', '_score': 0.68649703, '_source': {'Employee ID': 'E02009', 'Full Name': 'Miles Chang', 'Job Title': 'Analyst II', 'Business Unit': 'Corporate', 'Gender': 'Male', 'Ethnicity': 'Asian', 'Age': 62.0, 'Hire Date': '2/19/1999', 'Annual Salary': '$69,674 ', 'Bonus %': '0%', 'Country': 'China', 'City': 'Chengdu', 'Exit Date': None}}, {'_index': 'hash_yourname', '_id': 'udJprJIBJahXiCRmqeQW', '_score': 0.68649703, '_source': {'Employee ID': 'E02011', 'Full Name': 'Jameson Thomas', 'Job Title': 'Manager', 'Business Unit': 'Specialty Products', 'Gender': 'Male', 'Ethnicity': 'Caucasian', 'Age': 52.0, 'Hire Date': '2/5/2015', 'Annual Salary': '$105,879 ', 'Bonus %': '10%', 'Country': 'United States', 'City': 'Miami', 'Exit Date': None}}, {'_index': 'hash_yourname', '_id': 'utJprJIBJahXiCRmqeQk', '_score': 0.68649703, '_source': {'Employee ID': 'E02012', 'Full Name': 'Jameson Pena', 'Job Title': 'Systems Analyst', 'Business Unit': 'Manufacturing', 'Gender': 'Male', 'Ethnicity': 'Latino', 'Age': 49.0, 'Hire Date': '10/12/2003', 'Annual Salary': '$40,499 ', 'Bonus %': '0%', 'Country': 'United States', 'City': 'Miami', 'Exit Date': None}}, {'_index': 'hash_yourname', '_id': 'vNJprJIBJahXiCRmqeQ-', '_score': 0.68649703, '_source': {'Employee ID': 'E02014', 'Full Name': 'Jose Wong', 'Job Title': 'Director', 'Business Unit': 'Manufacturing', 'Gender': 'Male', 'Ethnicity': 'Asian', 'Age': 45.0, 'Hire Date': '11/15/2017', 'Annual Salary': '$150,558 ', 'Bonus %': '23%', 'Country': 'China', 'City': 'Chongqing', 'Exit Date': None}}, {'_index': 'hash_yourname', '_id': 'vdJprJIBJahXiCRmqeRN', '_score': 0.68649703, '_source': {'Employee ID': 'E02015', 'Full Name': 'Lucas Richardson', 'Job Title': 'Manager', 'Business Unit': 'Corporate', 'Gender': 'Male', 'Ethnicity': 'Caucasian', 'Age': 36.0, 'Hire Date': '7/22/2018', 'Annual Salary': '$118,912 ', 'Bonus %': '8%', 'Country': 'United States', 'City': 'Miami', 'Exit Date': None}}, {'_index': 'hash_yourname', '_id': 'vtJprJIBJahXiCRmqeRb', '_score': 0.68649703, '_source': {'Employee ID': 'E02016', 'Full Name': 'Jacob Moore', 'Job Title': 'Sr. Manager', 'Business Unit': 'Corporate', 'Gender': 'Male', 'Ethnicity': 'Black', 'Age': 42.0, 'Hire Date': '3/24/2021', 'Annual Salary': '$131,422 ', 'Bonus %': '15%', 'Country': 'United States', 'City': 'Phoenix', 'Exit Date': None}}]}}\n",
      "Searching Phone Collection by Department 'IT'...\n",
      "Search Results in Phone Collection for Department 'IT':\n",
      "{'took': 338, 'timed_out': False, '_shards': {'total': 1, 'successful': 1, 'skipped': 0, 'failed': 0}, 'hits': {'total': {'value': 156, 'relation': 'eq'}, 'max_score': 1.0136626, 'hits': [{'_index': 'hash_yourphonelastfourdigits', '_id': 'MtJrrJIBJahXiCRm7-hc', '_score': 1.0136626, '_source': {'Employee ID': 'E02007', 'Full Name': 'Ezra Vu', 'Job Title': 'Network Administrator', 'Department': 'IT', 'Business Unit': 'Manufacturing', 'Ethnicity': 'Asian', 'Age': 62.0, 'Hire Date': '4/22/2004', 'Annual Salary': '$66,227 ', 'Bonus %': '0%', 'Country': 'United States', 'City': 'Phoenix', 'Exit Date': '2/14/2014'}}, {'_index': 'hash_yourphonelastfourdigits', '_id': 'M9JrrJIBJahXiCRm8OgZ', '_score': 1.0136626, '_source': {'Employee ID': 'E02023', 'Full Name': 'Lillian Lewis', 'Job Title': 'Technical Architect', 'Department': 'IT', 'Business Unit': 'Research & Development', 'Ethnicity': 'Black', 'Age': 43.0, 'Hire Date': '8/14/2013', 'Annual Salary': '$83,323 ', 'Bonus %': '0%', 'Country': 'United States', 'City': 'Phoenix', 'Exit Date': '3/31/2019'}}, {'_index': 'hash_yourphonelastfourdigits', '_id': 'PdJrrJIBJahXiCRm8Ohy', '_score': 1.0136626, '_source': {'Employee ID': 'E02173', 'Full Name': 'Zoey Leung', 'Job Title': 'Network Administrator', 'Department': 'IT', 'Business Unit': 'Research & Development', 'Ethnicity': 'Asian', 'Age': 40.0, 'Hire Date': '9/27/2007', 'Annual Salary': '$77,637 ', 'Bonus %': '0%', 'Country': 'China', 'City': 'Chongqing', 'Exit Date': '2/4/2017'}}, {'_index': 'hash_yourphonelastfourdigits', '_id': 'RNJrrJIBJahXiCRm8Oiq', '_score': 1.0136626, '_source': {'Employee ID': 'E02219', 'Full Name': 'Iris Chung', 'Job Title': 'Manager', 'Department': 'IT', 'Business Unit': 'Research & Development', 'Ethnicity': 'Asian', 'Age': 52.0, 'Hire Date': '3/12/2013', 'Annual Salary': '$128,301 ', 'Bonus %': '6%', 'Country': 'China', 'City': 'Beijing', 'Exit Date': '9/17/2021'}}, {'_index': 'hash_yourphonelastfourdigits', '_id': 'R9JrrJIBJahXiCRm8OjB', '_score': 1.0136626, '_source': {'Employee ID': 'E02236', 'Full Name': 'Jack Perez', 'Job Title': 'Cloud Infrastructure Architect', 'Department': 'IT', 'Business Unit': 'Research & Development', 'Ethnicity': 'Latino', 'Age': 30.0, 'Hire Date': '1/9/2017', 'Annual Salary': '$80,389 ', 'Bonus %': '0%', 'Country': 'Brazil', 'City': 'Manaus', 'Exit Date': '9/10/2017'}}, {'_index': 'hash_yourphonelastfourdigits', '_id': 'SNJrrJIBJahXiCRm8OjJ', '_score': 1.0136626, '_source': {'Employee ID': 'E02244', 'Full Name': 'Connor Howard', 'Job Title': 'Systems Analyst', 'Department': 'IT', 'Business Unit': 'Specialty Products', 'Ethnicity': 'Caucasian', 'Age': 42.0, 'Hire Date': '3/15/2021', 'Annual Salary': '$44,265 ', 'Bonus %': '0%', 'Country': 'United States', 'City': 'Austin', 'Exit Date': '6/27/2022'}}, {'_index': 'hash_yourphonelastfourdigits', '_id': 'SdJrrJIBJahXiCRm8OjR', '_score': 1.0136626, '_source': {'Employee ID': 'E02253', 'Full Name': 'Leilani Ng', 'Job Title': 'Systems Analyst', 'Department': 'IT', 'Business Unit': 'Corporate', 'Ethnicity': 'Asian', 'Age': 48.0, 'Hire Date': '9/19/2011', 'Annual Salary': '$50,513 ', 'Bonus %': '0%', 'Country': 'United States', 'City': 'Seattle', 'Exit Date': '10/30/2019'}}, {'_index': 'hash_yourphonelastfourdigits', '_id': 'TNJrrJIBJahXiCRm8Ojp', '_score': 1.0136626, '_source': {'Employee ID': 'E02288', 'Full Name': 'Christopher Vu', 'Job Title': 'Computer Systems Manager', 'Department': 'IT', 'Business Unit': 'Corporate', 'Ethnicity': 'Asian', 'Age': 47.0, 'Hire Date': '3/16/2002', 'Annual Salary': '$88,839 ', 'Bonus %': '5%', 'Country': 'United States', 'City': 'Phoenix', 'Exit Date': '10/28/2014'}}, {'_index': 'hash_yourphonelastfourdigits', '_id': 'TdJrrJIBJahXiCRm8Ojw', '_score': 1.0136626, '_source': {'Employee ID': 'E02292', 'Full Name': 'Lily Molina', 'Job Title': 'Manager', 'Department': 'IT', 'Business Unit': 'Manufacturing', 'Ethnicity': 'Latino', 'Age': 40.0, 'Hire Date': '9/15/2009', 'Annual Salary': '$125,900 ', 'Bonus %': '7%', 'Country': 'United States', 'City': 'Seattle', 'Exit Date': '4/16/2018'}}, {'_index': 'hash_yourphonelastfourdigits', '_id': 'T9JrrJIBJahXiCRm8egA', '_score': 1.0136626, '_source': {'Employee ID': 'E02300', 'Full Name': 'Natalie Stewart', 'Job Title': 'Network Engineer', 'Department': 'IT', 'Business Unit': 'Corporate', 'Ethnicity': 'Caucasian', 'Age': 50.0, 'Hire Date': '6/30/2003', 'Annual Salary': '$92,344 ', 'Bonus %': '0%', 'Country': 'United States', 'City': 'Phoenix', 'Exit Date': '1/26/2022'}}]}}\n",
      "Getting Department Facets for Name Collection...\n",
      "Department Facets for Name Collection:\n",
      "{'took': 3, 'timed_out': False, '_shards': {'total': 1, 'successful': 1, 'skipped': 0, 'failed': 0}, 'hits': {'total': {'value': 1201, 'relation': 'eq'}, 'max_score': None, 'hits': []}, 'aggregations': {'departments': {'doc_count_error_upper_bound': 0, 'sum_other_doc_count': 0, 'buckets': []}}}\n",
      "Getting Department Facets for Phone Collection...\n",
      "Department Facets for Phone Collection:\n",
      "{'took': 98, 'timed_out': False, '_shards': {'total': 1, 'successful': 1, 'skipped': 0, 'failed': 0}, 'hits': {'total': {'value': 412, 'relation': 'eq'}, 'max_score': None, 'hits': []}, 'aggregations': {'departments': {'doc_count_error_upper_bound': 0, 'sum_other_doc_count': 0, 'buckets': [{'key': 'IT', 'doc_count': 156}, {'key': 'Accounting', 'doc_count': 52}, {'key': 'Engineering', 'doc_count': 52}, {'key': 'Finance', 'doc_count': 48}, {'key': 'Human Resources', 'doc_count': 48}, {'key': 'Sales', 'doc_count': 36}, {'key': 'Marketing', 'doc_count': 20}]}}}\n"
     ]
    }
   ],
   "source": [
    "execute_tasks()"
   ]
  }
 ],
 "metadata": {
  "kernelspec": {
   "display_name": "Python 3.10.10 64-bit",
   "language": "python",
   "name": "python3"
  },
  "language_info": {
   "codemirror_mode": {
    "name": "ipython",
    "version": 3
   },
   "file_extension": ".py",
   "mimetype": "text/x-python",
   "name": "python",
   "nbconvert_exporter": "python",
   "pygments_lexer": "ipython3",
   "version": "3.10.10"
  },
  "orig_nbformat": 4,
  "vscode": {
   "interpreter": {
    "hash": "8afe3bbb772decd82072f87143d0eb4ba7cd317c875311c60d967c3986be5a5a"
   }
  }
 },
 "nbformat": 4,
 "nbformat_minor": 2
}
